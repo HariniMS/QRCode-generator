{
  "nbformat": 4,
  "nbformat_minor": 0,
  "metadata": {
    "colab": {
      "name": "QRCode_generator.ipynb",
      "provenance": [],
      "collapsed_sections": []
    },
    "kernelspec": {
      "name": "python3",
      "display_name": "Python 3"
    }
  },
  "cells": [
    {
      "cell_type": "markdown",
      "metadata": {
        "id": "HdWnY-D_JpB8",
        "colab_type": "text"
      },
      "source": [
        "# QRCode_generator \n",
        "\n",
        "Generating instagram profile's QR-code using Python "
      ]
    },
    {
      "cell_type": "code",
      "metadata": {
        "id": "Gz76B3j-IFOF",
        "colab_type": "code",
        "colab": {
          "base_uri": "https://localhost:8080/",
          "height": 124
        },
        "outputId": "a797bf6b-7b82-47cc-dae1-f585881c8cdd"
      },
      "source": [
        "#installing qrcode\n",
        "pip install qrcode"
      ],
      "execution_count": 4,
      "outputs": [
        {
          "output_type": "stream",
          "text": [
            "Collecting qrcode\n",
            "  Downloading https://files.pythonhosted.org/packages/42/87/4a3a77e59ab7493d64da1f69bf1c2e899a4cf81e51b2baa855e8cc8115be/qrcode-6.1-py2.py3-none-any.whl\n",
            "Requirement already satisfied: six in /usr/local/lib/python3.6/dist-packages (from qrcode) (1.12.0)\n",
            "Installing collected packages: qrcode\n",
            "Successfully installed qrcode-6.1\n"
          ],
          "name": "stdout"
        }
      ]
    },
    {
      "cell_type": "code",
      "metadata": {
        "id": "Nts5yC4JHH1K",
        "colab_type": "code",
        "colab": {}
      },
      "source": [
        "#importing qrcode library\n",
        "import qrcode\n",
        "\n",
        "#importing matplotlib for visualization\n",
        "import matplotlib.pyplot as plt"
      ],
      "execution_count": 5,
      "outputs": []
    },
    {
      "cell_type": "code",
      "metadata": {
        "id": "FdcywoEQNypP",
        "colab_type": "code",
        "colab": {}
      },
      "source": [
        "#data - input\n",
        "data  = \"https://www.instagram.com/harini_m.s/\"\n"
      ],
      "execution_count": 6,
      "outputs": []
    },
    {
      "cell_type": "code",
      "metadata": {
        "id": "N1mVtrgqH_Tv",
        "colab_type": "code",
        "colab": {}
      },
      "source": [
        "# output file\n",
        "filename = \"/content/drive/My Drive/harini_m.s.png\""
      ],
      "execution_count": 7,
      "outputs": []
    },
    {
      "cell_type": "code",
      "metadata": {
        "id": "4hQRcX7bIWAa",
        "colab_type": "code",
        "colab": {}
      },
      "source": [
        "# generate qr code\n",
        "img = qrcode.make(data)"
      ],
      "execution_count": 8,
      "outputs": []
    },
    {
      "cell_type": "code",
      "metadata": {
        "id": "yfPLDtfkId_w",
        "colab_type": "code",
        "colab": {}
      },
      "source": [
        "#save img to a file\n",
        "img.save(filename)"
      ],
      "execution_count": 9,
      "outputs": []
    },
    {
      "cell_type": "code",
      "metadata": {
        "id": "SnK67hktI2fQ",
        "colab_type": "code",
        "colab": {
          "base_uri": "https://localhost:8080/",
          "height": 286
        },
        "outputId": "882a7ce6-afa1-44df-8547-4f6dfae7db25"
      },
      "source": [
        "#to show the generating QR-code using imshow()\n",
        "plt.imshow(img, cmap = \"gray\")"
      ],
      "execution_count": 10,
      "outputs": [
        {
          "output_type": "execute_result",
          "data": {
            "text/plain": [
              "<matplotlib.image.AxesImage at 0x7f792a8c8080>"
            ]
          },
          "metadata": {
            "tags": []
          },
          "execution_count": 10
        },
        {
          "output_type": "display_data",
          "data": {
            "image/png": "[encoded data removed]",
            "text/plain": [
              "<Figure size 432x288 with 1 Axes>"
            ]
          },
          "metadata": {
            "tags": [],
            "needs_background": "light"
          }
        }
      ]
    }
  ]
}